{
 "cells": [
  {
   "cell_type": "code",
   "execution_count": null,
   "metadata": {},
   "outputs": [],
   "source": []
  },
  {
   "cell_type": "markdown",
   "metadata": {},
   "source": [
    "## **SVM** "
   ]
  },
  {
   "cell_type": "markdown",
   "metadata": {},
   "source": [
    "### **Model** "
   ]
  },
  {
   "cell_type": "code",
   "execution_count": null,
   "metadata": {},
   "outputs": [],
   "source": [
    "# Assuming X_train and y_train are your training data and labels\n",
    "X_train_svm, X_remainder_svm, y_train_svm, y_remainder_svm = train_test_split(\n",
    "    X_train, y_train, test_size=0.8, stratify=y_train, random_state=42\n",
    ")"
   ]
  },
  {
   "cell_type": "code",
   "execution_count": null,
   "metadata": {},
   "outputs": [],
   "source": [
    "def svm_model(X, y, params, nsplits, scoring_metric):\n",
    "    \"\"\"\n",
    "    Create and train a Support Vector Machine (SVM) model using grid search for hyperparameter tuning.\n",
    "\n",
    "    Parameters:\n",
    "    - X (pd.DataFrame): Feature matrix.\n",
    "    - y (pd.Series): Target variable.\n",
    "    - params (dict): Hyperparameter grid for grid search.\n",
    "    - nsplits (int): Number of splits for cross-validation.\n",
    "    - scoring_metric (str): Scoring metric for grid search.\n",
    "\n",
    "    Returns:\n",
    "    - grid_search (GridSearchCV): Trained grid search object.\n",
    "    - best_svm_model (SVC): Trained SVM model with best hyperparameters.\n",
    "    \"\"\"\n",
    "    # Define an SVM model\n",
    "    svm_model = SVC(random_state=42)\n",
    "\n",
    "    # Perform grid search with stratified 10-fold cross-validation\n",
    "    cv = StratifiedKFold(n_splits=nsplits)\n",
    "    grid_search = GridSearchCV(svm_model, param_grid, cv=cv, scoring=scoring_metric)\n",
    "\n",
    "    # Fit the model within the loop\n",
    "    grid_search.fit(X_train, y_train)\n",
    "\n",
    "    # Get the best hyperparameters\n",
    "    best_params = grid_search.best_params_\n",
    "\n",
    "    # Train the SVM model with the best hyperparameters\n",
    "    best_svm_model = SVC(**best_params, random_state=42)\n",
    "\n",
    "    # Fit the model within the loop\n",
    "    best_svm_model.fit(X_train, y_train)\n",
    "\n",
    "    return grid_search, best_svm_model\n",
    "\n",
    "# Set up a grid of hyperparameters to search\n",
    "param_grid = {\n",
    "    'C': [0.01, 0.1, 1, 10, 100],\n",
    "    'kernel': ['linear', 'poly', 'rbf'],\n",
    "}\n",
    "\n",
    "svm_gs, best_svm_model = svm_model(X_train, y_train, params=param_grid, nsplits=10, scoring_metric='f1_weighted')"
   ]
  },
  {
   "cell_type": "markdown",
   "metadata": {},
   "source": [
    "### **Predictions and Evaluation** "
   ]
  },
  {
   "cell_type": "code",
   "execution_count": null,
   "metadata": {},
   "outputs": [],
   "source": [
    "# Optimal parameters\n",
    "svm_gs.best_params_"
   ]
  },
  {
   "cell_type": "code",
   "execution_count": null,
   "metadata": {},
   "outputs": [],
   "source": [
    "# Generate predictions, evaluate the model, produce relevant plots\n",
    "y_pred_svm, y_pred_prob_svm, svm_metrics_list = evaluate_model(best_svm_model, X_test, y_test)"
   ]
  }
 ],
 "metadata": {
  "language_info": {
   "name": "python"
  },
  "orig_nbformat": 4
 },
 "nbformat": 4,
 "nbformat_minor": 2
}
